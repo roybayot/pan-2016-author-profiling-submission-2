{
 "cells": [
  {
   "cell_type": "code",
   "execution_count": 1,
   "metadata": {
    "collapsed": true
   },
   "outputs": [],
   "source": [
    "import gensim\n",
    "import pandas as pd\n",
    "import numpy as np\n",
    "import sys\n",
    "import os\n",
    "import itertools\n",
    "import sklearn\n",
    "\n",
    "from sklearn import cross_validation\n",
    "from sklearn import svm\n",
    "from sklearn import metrics\n",
    "from scipy import stats\n",
    "from bs4 import BeautifulSoup\n",
    "\n",
    "\n",
    "import helpers as helper\n",
    "import pickle\n",
    "\n",
    "import sys\n",
    "reload(sys)\n",
    "sys.setdefaultencoding(\"ISO-8859-1\")"
   ]
  },
  {
   "cell_type": "code",
   "execution_count": 2,
   "metadata": {
    "collapsed": true
   },
   "outputs": [],
   "source": [
    "current_working_dir = os.getcwd() + '/'\n",
    "model_dir = \"word2vec-models/wikipedia-only-trained-on-my-machine/\"\n",
    "\n",
    "relations = {'dutch': {'truth_file': 'summary-dutch-truth.txt',\\\n",
    "                       'model_file': 'wiki.nl.tex.d100.model'\n",
    "                       },\n",
    "             'english': {'truth_file': 'summary-english-truth.txt',\\\n",
    "                         'model_file': 'wiki.en.tex.d100.model'\n",
    "                        },\n",
    "             'spanish': {'truth_file': 'summary-spanish-truth.txt',\\\n",
    "                         'model_file': 'wiki.es.tex.d100.model'\n",
    "                        }\n",
    "             }\n",
    "\n",
    "tasks = ['age', 'gender']\n",
    "\n",
    "num_features = 100\n",
    "source = \"wikipedia-self-trained\"\n",
    "poly_degrees = [1]\n",
    "poly_C = [1]\n",
    "rbf_gammas = [1]\n",
    "rbf_C =[1]\n",
    "\n",
    "all_results = {}"
   ]
  },
  {
   "cell_type": "code",
   "execution_count": 3,
   "metadata": {
    "collapsed": false
   },
   "outputs": [
    {
     "ename": "TypeError",
     "evalue": "'float' object is not iterable",
     "output_type": "error",
     "traceback": [
      "\u001b[1;31m---------------------------------------------------------------------------\u001b[0m",
      "\u001b[1;31mTypeError\u001b[0m                                 Traceback (most recent call last)",
      "\u001b[1;32m<ipython-input-3-e94ce6e118d7>\u001b[0m in \u001b[0;36m<module>\u001b[1;34m()\u001b[0m\n\u001b[0;32m      9\u001b[0m     \u001b[0mmodel\u001b[0m \u001b[1;33m=\u001b[0m \u001b[0mpickle\u001b[0m\u001b[1;33m.\u001b[0m\u001b[0mload\u001b[0m\u001b[1;33m(\u001b[0m \u001b[0mopen\u001b[0m\u001b[1;33m(\u001b[0m \u001b[0mmodel_file\u001b[0m\u001b[1;33m,\u001b[0m \u001b[1;34m\"rb\"\u001b[0m \u001b[1;33m)\u001b[0m \u001b[1;33m)\u001b[0m\u001b[1;33m\u001b[0m\u001b[0m\n\u001b[0;32m     10\u001b[0m \u001b[1;33m\u001b[0m\u001b[0m\n\u001b[1;32m---> 11\u001b[1;33m     \u001b[0mtrainDataVecs\u001b[0m\u001b[1;33m,\u001b[0m \u001b[0mtrashedWords\u001b[0m \u001b[1;33m=\u001b[0m \u001b[0mhelper\u001b[0m\u001b[1;33m.\u001b[0m\u001b[0mgetAvgFeatureVecs\u001b[0m\u001b[1;33m(\u001b[0m \u001b[0mclean_train_data\u001b[0m\u001b[1;33m,\u001b[0m                                                            \u001b[0mmodel\u001b[0m\u001b[1;33m,\u001b[0m                                                            \u001b[0mnum_features\u001b[0m \u001b[1;33m)\u001b[0m\u001b[1;33m\u001b[0m\u001b[0m\n\u001b[0m\u001b[0;32m     12\u001b[0m \u001b[1;33m\u001b[0m\u001b[0m\n\u001b[0;32m     13\u001b[0m     \u001b[1;32mprint\u001b[0m \u001b[1;34m\"Done making average vector\"\u001b[0m\u001b[1;33m\u001b[0m\u001b[0m\n",
      "\u001b[1;32m/home/ue/Documents/pan-2016-author-profiling/helpers.pyc\u001b[0m in \u001b[0;36mgetAvgFeatureVecs\u001b[1;34m(all_texts, model, num_features)\u001b[0m\n\u001b[0;32m    101\u001b[0m \u001b[1;33m\u001b[0m\u001b[0m\n\u001b[0;32m    102\u001b[0m     \u001b[1;32mfor\u001b[0m \u001b[0mone_line\u001b[0m \u001b[1;32min\u001b[0m \u001b[0mall_texts\u001b[0m\u001b[1;33m:\u001b[0m\u001b[1;33m\u001b[0m\u001b[0m\n\u001b[1;32m--> 103\u001b[1;33m         \u001b[0mreviewFeatureVecs\u001b[0m\u001b[1;33m[\u001b[0m\u001b[0mcounter\u001b[0m\u001b[1;33m]\u001b[0m\u001b[1;33m,\u001b[0m \u001b[0mwordsNotInDict\u001b[0m \u001b[1;33m=\u001b[0m \u001b[0mmakeFeatureVec\u001b[0m\u001b[1;33m(\u001b[0m\u001b[0mone_line\u001b[0m\u001b[1;33m,\u001b[0m \u001b[0mmodel\u001b[0m\u001b[1;33m,\u001b[0m \u001b[0mnum_features\u001b[0m\u001b[1;33m)\u001b[0m\u001b[1;33m\u001b[0m\u001b[0m\n\u001b[0m\u001b[0;32m    104\u001b[0m         \u001b[0mlineOfWordsNotInDict\u001b[0m\u001b[1;33m.\u001b[0m\u001b[0mappend\u001b[0m\u001b[1;33m(\u001b[0m\u001b[0mwordsNotInDict\u001b[0m\u001b[1;33m)\u001b[0m\u001b[1;33m\u001b[0m\u001b[0m\n\u001b[0;32m    105\u001b[0m         \u001b[0mcounter\u001b[0m \u001b[1;33m=\u001b[0m \u001b[0mcounter\u001b[0m \u001b[1;33m+\u001b[0m \u001b[1;36m1.\u001b[0m\u001b[1;33m\u001b[0m\u001b[0m\n",
      "\u001b[1;32m/home/ue/Documents/pan-2016-author-profiling/helpers.pyc\u001b[0m in \u001b[0;36mmakeFeatureVec\u001b[1;34m(words, model, num_features)\u001b[0m\n\u001b[0;32m     86\u001b[0m     \u001b[0mwordsNotInDict\u001b[0m \u001b[1;33m=\u001b[0m \u001b[1;33m[\u001b[0m\u001b[1;33m]\u001b[0m\u001b[1;33m\u001b[0m\u001b[0m\n\u001b[0;32m     87\u001b[0m \u001b[1;33m\u001b[0m\u001b[0m\n\u001b[1;32m---> 88\u001b[1;33m     \u001b[1;32mfor\u001b[0m \u001b[0mword\u001b[0m \u001b[1;32min\u001b[0m \u001b[0mwords\u001b[0m\u001b[1;33m:\u001b[0m\u001b[1;33m\u001b[0m\u001b[0m\n\u001b[0m\u001b[0;32m     89\u001b[0m         \u001b[1;32mif\u001b[0m \u001b[0mword\u001b[0m \u001b[1;32min\u001b[0m \u001b[0mindex2word_set\u001b[0m\u001b[1;33m:\u001b[0m\u001b[1;33m\u001b[0m\u001b[0m\n\u001b[0;32m     90\u001b[0m             \u001b[0mnwords\u001b[0m \u001b[1;33m=\u001b[0m \u001b[0mnwords\u001b[0m \u001b[1;33m+\u001b[0m \u001b[1;36m1.\u001b[0m\u001b[1;33m\u001b[0m\u001b[0m\n",
      "\u001b[1;31mTypeError\u001b[0m: 'float' object is not iterable"
     ]
    }
   ],
   "source": [
    "for lang in [\"english\"]:\n",
    "    truth_file = relations[lang]['truth_file']\n",
    "    model_file = current_working_dir + model_dir + relations[lang]['model_file']\n",
    "\n",
    "    train = pd.read_csv(truth_file, header=0, delimiter=\"\\t\", quoting=1)\n",
    "    print \"Done reading file\"\n",
    "    clean_train_data = train['text']\n",
    "\n",
    "    model = pickle.load( open( model_file, \"rb\" ) )\n",
    "\n",
    "    trainDataVecs, trashedWords = helper.getAvgFeatureVecs( clean_train_data,\\\n",
    "                                                            model,\\\n",
    "                                                            num_features )\n",
    "\n",
    "    print \"Done making average vector\"\n",
    "    \n",
    "    for task in tasks:\n",
    "        train_y = train[task]\n",
    "        poly_results = helper.doSVMwithPoly(trainDataVecs, train_y, source, \\\n",
    "                                            num_features, task, num_folds=10,\\\n",
    "                                            degrees=poly_degrees, C=poly_C)\n",
    "        print \"Done with polynomial\", task\n",
    "        rbf_results = helper.doSVMwithRBF(trainDataVecs, train_y, source, \\\n",
    "                                          num_features, task, num_folds=10,\\\n",
    "                                          gammas=rbf_gammas, C=rbf_C)\n",
    "\n",
    "        print \"Done with rbf\", task\n",
    "\n",
    "        results_one_task = helper.merge_two_dicts(poly_results, rbf_results)\n",
    "        all_results = helper.merge_two_dicts(results_one_task, all_results)"
   ]
  },
  {
   "cell_type": "code",
   "execution_count": null,
   "metadata": {
    "collapsed": true
   },
   "outputs": [],
   "source": []
  }
 ],
 "metadata": {
  "kernelspec": {
   "display_name": "Python 2",
   "language": "python",
   "name": "python2"
  },
  "language_info": {
   "codemirror_mode": {
    "name": "ipython",
    "version": 2
   },
   "file_extension": ".py",
   "mimetype": "text/x-python",
   "name": "python",
   "nbconvert_exporter": "python",
   "pygments_lexer": "ipython2",
   "version": "2.7.6"
  }
 },
 "nbformat": 4,
 "nbformat_minor": 0
}
